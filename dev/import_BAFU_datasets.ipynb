{
 "cells": [
  {
   "cell_type": "code",
   "execution_count": 1,
   "id": "553fe9e7-c3d5-4638-a28f-a4823e76a292",
   "metadata": {},
   "outputs": [
    {
     "name": "stdout",
     "output_type": "stream",
     "text": [
      "Extracted 2 unallocated datasets in 0.00 seconds\n",
      "Applying strategy: normalize_units\n",
      "Applying strategy: update_ecoinvent_locations\n",
      "Applying strategy: assign_only_product_as_production\n",
      "Applying strategy: drop_unspecified_subcategories\n",
      "Applying strategy: sp_allocate_products\n",
      "Applying strategy: fix_zero_allocation_products\n",
      "Applying strategy: split_simapro_name_geo\n",
      "Applying strategy: strip_biosphere_exc_locations\n",
      "Applying strategy: migrate_datasets\n",
      "Applying strategy: migrate_exchanges\n",
      "Applying strategy: set_code_by_activity_hash\n",
      "Applying strategy: link_technosphere_based_on_name_unit_location\n",
      "Applying strategy: change_electricity_unit_mj_to_kwh\n",
      "Applying strategy: set_lognormal_loc_value_uncertainty_safe\n",
      "Applying strategy: normalize_biosphere_categories\n",
      "Applying strategy: normalize_simapro_biosphere_categories\n",
      "Applying strategy: normalize_biosphere_names\n",
      "Applying strategy: normalize_simapro_biosphere_names\n",
      "Applying strategy: migrate_exchanges\n",
      "Applying strategy: fix_localized_water_flows\n",
      "Applying strategy: link_iterable_by_fields\n",
      "Applying strategy: convert_activity_parameters_to_list\n",
      "Applied 22 strategies in 2.44 seconds\n",
      "- format exchanges\n",
      "- remove empty datasets\n",
      "- remove empty exchanges\n",
      "- check inventories\n",
      "Done!\n",
      "Applying strategy: link_iterable_by_fields\n",
      "Applying strategy: link_iterable_by_fields\n"
     ]
    },
    {
     "name": "stderr",
     "output_type": "stream",
     "text": [
      "Writing activities to SQLite3 database:\n"
     ]
    },
    {
     "name": "stdout",
     "output_type": "stream",
     "text": [
      "Applying strategy: link_iterable_by_fields\n"
     ]
    },
    {
     "name": "stderr",
     "output_type": "stream",
     "text": [
      "0% [##] 100% | ETA: 00:00:01\n",
      "Total time elapsed: 00:00:00\n"
     ]
    },
    {
     "name": "stdout",
     "output_type": "stream",
     "text": [
      "Title: Writing activities to SQLite3 database:\n",
      "  Started: 04/01/2025 15:38:34\n",
      "  Finished: 04/01/2025 15:38:34\n",
      "  Total time elapsed: 00:00:00\n",
      "  CPU %: 99.40\n",
      "  Memory %: 1.98\n",
      "Created database: co2_from_h2_biomass_ccs_16112024_edited\n",
      "Extracted 4 unallocated datasets in 0.00 seconds\n",
      "Applying strategy: normalize_units\n",
      "Applying strategy: update_ecoinvent_locations\n",
      "Applying strategy: assign_only_product_as_production\n",
      "Applying strategy: drop_unspecified_subcategories\n",
      "Applying strategy: sp_allocate_products\n",
      "Applying strategy: fix_zero_allocation_products\n",
      "Applying strategy: split_simapro_name_geo\n",
      "Applying strategy: strip_biosphere_exc_locations\n",
      "Applying strategy: migrate_datasets\n",
      "Applying strategy: migrate_exchanges\n",
      "Applying strategy: set_code_by_activity_hash\n",
      "Applying strategy: link_technosphere_based_on_name_unit_location\n",
      "Applying strategy: change_electricity_unit_mj_to_kwh\n",
      "Applying strategy: set_lognormal_loc_value_uncertainty_safe\n",
      "Applying strategy: normalize_biosphere_categories\n",
      "Applying strategy: normalize_simapro_biosphere_categories\n",
      "Applying strategy: normalize_biosphere_names\n",
      "Applying strategy: normalize_simapro_biosphere_names\n",
      "Applying strategy: migrate_exchanges\n",
      "Applying strategy: fix_localized_water_flows\n",
      "Applying strategy: link_iterable_by_fields\n",
      "Applying strategy: convert_activity_parameters_to_list\n",
      "Applied 22 strategies in 2.43 seconds\n",
      "- format exchanges\n",
      "- remove empty datasets\n",
      "- remove empty exchanges\n",
      "- check inventories\n",
      "Done!\n",
      "Applying strategy: link_iterable_by_fields\n",
      "Applying strategy: link_iterable_by_fields\n"
     ]
    },
    {
     "name": "stderr",
     "output_type": "stream",
     "text": [
      "Writing activities to SQLite3 database:\n"
     ]
    },
    {
     "name": "stdout",
     "output_type": "stream",
     "text": [
      "Applying strategy: link_iterable_by_fields\n"
     ]
    },
    {
     "name": "stderr",
     "output_type": "stream",
     "text": [
      "0% [####] 100% | ETA: 00:00:00\n",
      "Total time elapsed: 00:00:00\n"
     ]
    },
    {
     "name": "stdout",
     "output_type": "stream",
     "text": [
      "Title: Writing activities to SQLite3 database:\n",
      "  Started: 04/01/2025 15:38:37\n",
      "  Finished: 04/01/2025 15:38:37\n",
      "  Total time elapsed: 00:00:00\n",
      "  CPU %: 101.40\n",
      "  Memory %: 2.20\n",
      "Created database: co2_from_mswi_ccs_16112024_edited\n",
      "Extracted 5 unallocated datasets in 0.00 seconds\n",
      "Applying strategy: normalize_units\n",
      "Applying strategy: update_ecoinvent_locations\n",
      "Applying strategy: assign_only_product_as_production\n",
      "Applying strategy: drop_unspecified_subcategories\n",
      "Applying strategy: sp_allocate_products\n",
      "Applying strategy: fix_zero_allocation_products\n",
      "Applying strategy: split_simapro_name_geo\n",
      "Applying strategy: strip_biosphere_exc_locations\n",
      "Applying strategy: migrate_datasets\n",
      "Applying strategy: migrate_exchanges\n",
      "Applying strategy: set_code_by_activity_hash\n",
      "Applying strategy: link_technosphere_based_on_name_unit_location\n",
      "Applying strategy: change_electricity_unit_mj_to_kwh\n",
      "Applying strategy: set_lognormal_loc_value_uncertainty_safe\n",
      "Applying strategy: normalize_biosphere_categories\n",
      "Applying strategy: normalize_simapro_biosphere_categories\n",
      "Applying strategy: normalize_biosphere_names\n",
      "Applying strategy: normalize_simapro_biosphere_names\n",
      "Applying strategy: migrate_exchanges\n",
      "Applying strategy: fix_localized_water_flows\n",
      "Applying strategy: link_iterable_by_fields\n",
      "Applying strategy: convert_activity_parameters_to_list\n",
      "Applied 22 strategies in 2.43 seconds\n",
      "- format exchanges\n",
      "- remove empty datasets\n",
      "- remove empty exchanges\n",
      "- check inventories\n",
      "Done!\n",
      "Applying strategy: link_iterable_by_fields\n",
      "Applying strategy: link_iterable_by_fields\n"
     ]
    },
    {
     "name": "stderr",
     "output_type": "stream",
     "text": [
      "Writing activities to SQLite3 database:\n"
     ]
    },
    {
     "name": "stdout",
     "output_type": "stream",
     "text": [
      "Applying strategy: link_iterable_by_fields\n"
     ]
    },
    {
     "name": "stderr",
     "output_type": "stream",
     "text": [
      "0% [#####] 100% | ETA: 00:00:00\n",
      "Total time elapsed: 00:00:00\n"
     ]
    },
    {
     "name": "stdout",
     "output_type": "stream",
     "text": [
      "Title: Writing activities to SQLite3 database:\n",
      "  Started: 04/01/2025 15:38:40\n",
      "  Finished: 04/01/2025 15:38:40\n",
      "  Total time elapsed: 00:00:00\n",
      "  CPU %: 101.70\n",
      "  Memory %: 2.35\n",
      "Created database: co2_from_dacc_07102024_edited\n",
      "Extracted 4 unallocated datasets in 0.00 seconds\n",
      "Applying strategy: normalize_units\n",
      "Applying strategy: update_ecoinvent_locations\n",
      "Applying strategy: assign_only_product_as_production\n",
      "Applying strategy: drop_unspecified_subcategories\n",
      "Applying strategy: sp_allocate_products\n",
      "Applying strategy: fix_zero_allocation_products\n",
      "Applying strategy: split_simapro_name_geo\n",
      "Applying strategy: strip_biosphere_exc_locations\n",
      "Applying strategy: migrate_datasets\n",
      "Applying strategy: migrate_exchanges\n",
      "Applying strategy: set_code_by_activity_hash\n",
      "Applying strategy: link_technosphere_based_on_name_unit_location\n",
      "Applying strategy: change_electricity_unit_mj_to_kwh\n",
      "Applying strategy: set_lognormal_loc_value_uncertainty_safe\n",
      "Applying strategy: normalize_biosphere_categories\n",
      "Applying strategy: normalize_simapro_biosphere_categories\n",
      "Applying strategy: normalize_biosphere_names\n",
      "Applying strategy: normalize_simapro_biosphere_names\n",
      "Applying strategy: migrate_exchanges\n",
      "Applying strategy: fix_localized_water_flows\n",
      "Applying strategy: link_iterable_by_fields\n",
      "Applying strategy: convert_activity_parameters_to_list\n",
      "Applied 22 strategies in 2.45 seconds\n",
      "- format exchanges\n",
      "- remove empty datasets\n",
      "- remove empty exchanges\n",
      "- check inventories\n",
      "Done!\n",
      "Applying strategy: link_iterable_by_fields\n",
      "Applying strategy: link_iterable_by_fields\n"
     ]
    },
    {
     "name": "stderr",
     "output_type": "stream",
     "text": [
      "Writing activities to SQLite3 database:\n"
     ]
    },
    {
     "name": "stdout",
     "output_type": "stream",
     "text": [
      "Applying strategy: link_iterable_by_fields\n"
     ]
    },
    {
     "name": "stderr",
     "output_type": "stream",
     "text": [
      "0% [####] 100% | ETA: 00:00:00\n",
      "Total time elapsed: 00:00:00\n"
     ]
    },
    {
     "name": "stdout",
     "output_type": "stream",
     "text": [
      "Title: Writing activities to SQLite3 database:\n",
      "  Started: 04/01/2025 15:38:44\n",
      "  Finished: 04/01/2025 15:38:44\n",
      "  Total time elapsed: 00:00:00\n",
      "  CPU %: 97.80\n",
      "  Memory %: 2.45\n",
      "Created database: co2_from_dacc_high_temp_16102024_edited\n"
     ]
    }
   ],
   "source": [
    "import bw2io\n",
    "from pathlib import Path\n",
    "import bw2data\n",
    "from brightpath import SimaproConverter\n",
    "\n",
    "#fp=f\"/Users/romain/Library/CloudStorage/OneDrive-Personal/DACCS BAFU/CO2_from_H2_biomass_CCS_16112024.csv\"\n",
    "#fp=r\"/Users/romain/Library/CloudStorage/OneDrive-Personal/DACCS BAFU/CO2_from_MSWI_CCS_16112024.csv\"\n",
    "#fp=r\"/Users/romain/Library/CloudStorage/OneDrive-Personal/DACCS BAFU/CO2_from_DACC_07102024.csv\"\n",
    "#fp=r\"/Users/romain/Library/CloudStorage/OneDrive-Personal/DACCS BAFU/CO2_from_DACC_high_temp_16102024.csv\"\n",
    "fps = [\n",
    "    r\"/Users/romain/Library/CloudStorage/OneDrive-Personal/DACCS BAFU/CO2_from_H2_biomass_CCS_16112024.csv\",\n",
    "    r\"/Users/romain/Library/CloudStorage/OneDrive-Personal/DACCS BAFU/CO2_from_MSWI_CCS_16112024.csv\",\n",
    "    r\"/Users/romain/Library/CloudStorage/OneDrive-Personal/DACCS BAFU/CO2_from_DACC_07102024.csv\",\n",
    "    r\"/Users/romain/Library/CloudStorage/OneDrive-Personal/DACCS BAFU/CO2_from_DACC_high_temp_16102024.csv\"\n",
    "]\n",
    "bw2data.projects.set_current(\"ecoinvent-3.10-cutoff\")\n",
    "\n",
    "for fp in fps:\n",
    "    c = SimaproConverter(fp, ecoinvent_version=\"3.10\")\n",
    "    c.convert_to_brightway()\n",
    "    c.i.data = bw2io.strategies.migrate_exchanges(\n",
    "        db=c.i.data,\n",
    "        migration=\"H2_biomass\"\n",
    "    )\n",
    "    c.i.match_database(fields=[\"name\", \"reference product\", \"location\"])\n",
    "    c.i.match_database(\"ecoinvent-3.10.1-cutoff\", fields=[\"name\", \"reference product\", \"location\"])\n",
    "    c.i.match_database(\"biosphere3\", fields=[\"name\", \"categories\"])\n",
    "\n",
    "    if len(list(c.i.unlinked)) == 0:\n",
    "        c.i.write_database()"
   ]
  },
  {
   "cell_type": "code",
   "execution_count": 12,
   "id": "54d7258a-ded9-4e96-bb8b-32902f2d28d8",
   "metadata": {},
   "outputs": [
    {
     "name": "stdout",
     "output_type": "stream",
     "text": [
      "- format exchanges\n",
      "- remove empty datasets\n",
      "- remove empty exchanges\n",
      "- check inventories\n",
      "Done!\n"
     ]
    }
   ],
   "source": []
  },
  {
   "cell_type": "code",
   "execution_count": 29,
   "id": "cd87ff01-5d6a-4bf5-ad54-7d3f7a43a2d4",
   "metadata": {},
   "outputs": [
    {
     "name": "stdout",
     "output_type": "stream",
     "text": [
      "Applying strategy: link_iterable_by_fields\n",
      "Applying strategy: link_iterable_by_fields\n",
      "Applying strategy: link_iterable_by_fields\n"
     ]
    }
   ],
   "source": [
    "c.i.match_database(fields=[\"name\", \"reference product\", \"location\"])\n",
    "c.i.match_database(\"ecoinvent-3.10.1-cutoff\", fields=[\"name\", \"reference product\", \"location\"])\n",
    "c.i.match_database(\"biosphere3\", fields=[\"name\", \"categories\"])"
   ]
  },
  {
   "cell_type": "code",
   "execution_count": 30,
   "id": "b85d58d0-f547-47a0-ab3a-39780ed1302d",
   "metadata": {},
   "outputs": [
    {
     "name": "stdout",
     "output_type": "stream",
     "text": [
      "2 datasets\n",
      "34 exchanges\n",
      "30 unlinked exchanges\n",
      "  Type biosphere: 1 unique unlinked exchanges\n",
      "  Type technosphere: 22 unique unlinked exchanges\n"
     ]
    },
    {
     "data": {
      "text/plain": [
       "(2, 34, 30)"
      ]
     },
     "execution_count": 30,
     "metadata": {},
     "output_type": "execute_result"
    }
   ],
   "source": [
    "c.i.statistics()"
   ]
  },
  {
   "cell_type": "code",
   "execution_count": 7,
   "id": "9afd6483-bc20-43db-bffc-23ea79a573e6",
   "metadata": {},
   "outputs": [
    {
     "name": "stdout",
     "output_type": "stream",
     "text": [
      "{'uncertainty type': 2, 'scale': 0.15995360987325885, 'loc': -0.21072103131565253, 'negative': False, 'amount': 0.81, 'categories': ('Materials/fuels',), 'name': 'Water, deionised, at plant', 'unit': 'kilogram', 'comment': '{1;5;1;2;3;5;1.05;}', 'type': 'technosphere', 'simapro name': 'Water, deionised, at plant', 'location': 'GLO', 'product': 'water, deionised, at plant', 'reference product': 'water, deionised, at plant'}\n",
      "{'uncertainty type': 2, 'scale': 0.21325439751825664, 'loc': 0.0, 'negative': False, 'amount': 1.0, 'categories': ('Materials/fuels',), 'name': 'carbon dioxide compression, transport and storage', 'unit': 'kilogram', 'comment': 'Pedigree (3,3,2,3,4,3) CO2 sent for compression and storage', 'type': 'technosphere', 'simapro name': 'carbon dioxide compression, transport and storage', 'location': 'GLO', 'product': 'carbon dioxide compression, transport and storage', 'reference product': 'carbon dioxide compression, transport and storage'}\n",
      "{'uncertainty type': 2, 'scale': 0.5800104583983766, 'loc': -22.764163817765763, 'negative': False, 'amount': 1.29912e-10, 'categories': ('Materials/fuels',), 'name': 'Liquid storage tank, chemicals, organics', 'unit': 'unit', 'comment': '(4,5,1,5,3,5); Estimated', 'type': 'technosphere', 'simapro name': 'Liquid storage tank, chemicals, organics', 'location': 'GLO', 'product': 'liquid storage tank, chemicals, organics', 'reference product': 'liquid storage tank, chemicals, organics'}\n",
      "{'uncertainty type': 0, 'loc': 1.0, 'amount': 1.0, 'name': 'Carbon dioxide', 'categories': ('natural resource', 'in air'), 'unit': 'kilogram', 'comment': 'Atmospheric CO2 uptake from MSWI biomass fraction.', 'type': 'biosphere', 'simapro name': 'Carbon dioxide'}\n",
      "{'uncertainty type': 2, 'scale': 0.15995360987325885, 'loc': -7.362448147058311, 'negative': False, 'amount': -0.0006346428571, 'categories': ('Waste to treatment',), 'name': 'Treatment, sewage, to wastewater treatment, class 1', 'unit': 'cubic meter', 'comment': 'Pedigree {1;5;1;2;3;5;1.05;}', 'type': 'technosphere', 'simapro name': 'Treatment, sewage, to wastewater treatment, class 1', 'location': 'GLO', 'product': 'treatment, sewage, to wastewater treatment, class 1', 'reference product': 'treatment, sewage, to wastewater treatment, class 1'}\n"
     ]
    }
   ],
   "source": [
    "for u in list(c.i.unlinked):\n",
    "    print(u)"
   ]
  },
  {
   "cell_type": "code",
   "execution_count": 3,
   "id": "b940d827-8a14-4f6d-bffd-a020b3aa6cef",
   "metadata": {},
   "outputs": [],
   "source": [
    "# this is to build a migration file\n",
    "migration = {\n",
    "    \"fields\": [\"name\", \"reference product\", \"location\", ],\n",
    "}\n",
    "\n",
    "migration[\"data\"] = [\n",
    "    (\n",
    "        ('Water, deionised, at plant', 'water, deionised, at plant', 'GLO'),\n",
    "        {'name': 'market for water, deionised', 'reference product': 'water, deionised', 'location': 'CH'}\n",
    "    ),\n",
    "  (\n",
    "      ('Liquid storage tank, chemicals, organics',\n",
    "    'liquid storage tank, chemicals, organics',\n",
    "    'GLO'),\n",
    "    {\"name\": \"market for liquid storage tank, chemicals, organics\", \"reference product\": \"liquid storage tank, chemicals, organics\", \"location\": \"GLO\"}\n",
    "  ),\n",
    "  (\n",
    "      ('Treatment, sewage, to wastewater treatment, class 1',\n",
    "    'treatment, sewage, to wastewater treatment, class 1',\n",
    "    'GLO'),\n",
    "     {\"name\": \"treatment of wastewater, average, wastewater treatment\", \"reference product\": \"wastewater, average\", \"location\": \"CH\"}\n",
    "  ),\n",
    "    (\n",
    "            (\"Carbon dioxide\", \"\", \"\", ('natural resource', 'in air')),\n",
    "            {\"name\": \"Carbon dioxide, in air\",},\n",
    "        ),\n",
    "    (('Concrete, normal, at plant', 'concrete, normal, at plant', 'GLO'), {\"name\": \"market for concrete, normal strength\", \"reference product\": \"concrete, normal strength\", \"location\": \"CH\"}),\n",
    "    (('Copper, primary, at refinery', 'copper, primary, at refinery', 'GLO'), {\"name\": \"market for copper, cathode\", \"reference product\": \"copper, cathode\", \"location\": \"GLO\"}),\n",
    "    (('Chromium steel 18/8, at plant', 'chromium steel 18/8, at plant', 'GLO'),\n",
    "    {\"name\": \"market for steel, chromium steel 18/8\", \"reference product\": \"steel, chromium steel 18/8\", \"location\": \"GLO\"}),\n",
    "    (('Polyethylene, LDPE, granulate, at plant',\n",
    "    'polyethylene, LDPE, granulate, at plant',\n",
    "    'GLO'),\n",
    "    {\"name\": \"market for polyethylene, low density, granulate\", \"reference product\": \"polyethylene, low density, granulate\", \"location\": \"GLO\"}),\n",
    "    (('Sand, at mine', 'sand, at mine', 'GLO'), {\"name\": \"market for sand\", \"reference product\": \"sand\", \"location\": \"CH\"}),\n",
    "    (('reinforcing steel, at plant/kg', 'reinforcing steel, at plant/kg', 'GLO'),\n",
    "    {\"name\": \"market for reinforcing steel\", \"reference product\": \"reinforcing steel\", \"location\": \"GLO\"}),\n",
    "    (('Drawing of pipes, steel', 'drawing of pipes, steel', 'GLO'), {\"name\": \"drawing of pipe, steel\", \"reference product\": \"drawing of pipe, steel\", \"location\": \"RER\"}),\n",
    "    (('Bitumen sealing, at plant', 'bitumen sealing, at plant', 'GLO'), {\"name\": \"bitumen seal production\", \"reference product\": \"bitumen seal\", \"location\": \"RER\"}),\n",
    "    (('transport, freight, lorry 16-32 metric ton, fleet average',\n",
    "    'transport, freight, lorry 16-32 metric ton, fleet average',\n",
    "    'GLO'),\n",
    "    {\"name\": \"transport, freight, lorry 16-32 metric ton, EURO6\", \"reference product\": \"transport, freight, lorry 16-32 metric ton, EURO6\", \"location\": \"RER\"}),\n",
    "    (('well for exploration and production, onshore/m',\n",
    "    'well for exploration and production, onshore/m',\n",
    "    'GLO'),\n",
    "    {\"name\": \"onshore well production, oil/gas\", \"reference product\": \"onshore well, oil/gas\", \"location\": \"GLO\"}),\n",
    "    (('steel, converter, unalloyed, at plant/kg',\n",
    "    'steel, converter, unalloyed, at plant/kg',\n",
    "    'GLO'),\n",
    "    {\"name\": \"steel production, converter, unalloyed\", \"reference product\": \"steel, unalloyed\", \"location\": \"RER\"}),\n",
    "    (('Steel, low-alloyed, at plant', 'steel, low-alloyed, at plant', 'GLO'), {\"name\": \"steel production, converter, low-alloyed\", \"reference product\": \"steel, low-alloyed\", \"location\": \"RER\"}),\n",
    "    (('diesel, burned in diesel-electric generating set/MJ',\n",
    "    'diesel, burned in diesel-electric generating set/MJ',\n",
    "    'GLO'),\n",
    "    {\"name\": \"diesel, burned in diesel-electric generating set, 10MW\", \"reference product\": \"diesel, burned in diesel-electric generating set, 10MW\", \"location\": \"GLO\"}),\n",
    "    (('electricity, medium voltage, at grid/kWh',\n",
    "    'electricity, medium voltage, at grid/kWh',\n",
    "    'GLO'),\n",
    "    {\"name\": \"market for electricity, medium voltage\", \"reference product\": \"electricity, medium voltage\", \"location\": \"CH\"}),\n",
    "    (('Disposal, building, concrete, not reinforced, to sorting plant',\n",
    "    'disposal, building, concrete, not reinforced, to sorting plant',\n",
    "    'GLO'),\n",
    "    {\"name\": \"market for waste concrete, not reinforced\", \"reference product\": \"waste concrete, not reinforced\", \"location\": \"CH\"}),\n",
    "    (('Disposal, building, reinforcement steel, to sorting plant',\n",
    "    'disposal, building, reinforcement steel, to sorting plant',\n",
    "    'GLO'),\n",
    "    {\"name\": \"treatment of waste reinforcement steel, sorting plant\", \"reference product\": \"waste reinforcement steel\", \"location\": \"CH\"}),\n",
    "    (('disposal, copper, 0% water, to municipal incineration/kg',\n",
    "    'disposal, copper, 0% water, to municipal incineration/kg',\n",
    "    'GLO'),\n",
    "    {\"name\": \"market for copper scrap, sorted, pressed\", \"reference product\": \"copper scrap, sorted, pressed\", \"location\": \"GLO\"}),\n",
    "    (('Disposal, building, polyethylene/polypropylene products, to final disposal',\n",
    "    'disposal, building, polyethylene/polypropylene products, to final disposal',\n",
    "    'GLO'),\n",
    "    {\"name\": \"market for waste polyethylene/polypropylene product\", \"reference product\": \"waste polyethylene/polypropylene product\", \"location\": \"CH\"}),\n",
    "    (('disposal, bitumen sheet, as building waste',\n",
    "    'disposal, bitumen sheet, as building waste',\n",
    "    'GLO'),\n",
    "     {\"name\": \"market for waste bitumen\", \"reference product\": \"waste bitumen\", \"location\": \"CH\"}),\n",
    "    (('tap water, at user/kg', 'tap water, at user/kg', 'GLO'), {\"name\": \"market for tap water\", \"reference product\": \"tap water\", \"location\": \"CH\"}),\n",
    "     (('Sodium hydroxide, 50% in H2O, production mix, at plant',\n",
    "       'sodium hydroxide, 50% in H2O, production mix, at plant',\n",
    "       'GLO'),\n",
    "      {\"name\": \"market for sodium hydroxide, without water, in 50% solution state\", \"reference product\": \"sodium hydroxide, without water, in 50% solution state\", \"location\": \"RER\"}),\n",
    "     (('transport, freight, rail, electricity with shunting/tkm',\n",
    "       'transport, freight, rail, electricity with shunting/tkm',\n",
    "       'GLO'),\n",
    "      {\"name\": \"transport, freight train, electricity\", \"reference product\": \"transport, freight train\", \"location\": \"CH\"}),\n",
    "     (('transport, freight, lorry 16-32 metric ton, fleet average/tkm',\n",
    "       'transport, freight, lorry 16-32 metric ton, fleet average/tkm',\n",
    "       'GLO'),\n",
    "      {\"name\": \"transport, freight, lorry 16-32 metric ton, EURO6\", \"reference product\": \"transport, freight, lorry 16-32 metric ton, EURO6\", \"location\": \"RER\"}),\n",
    "     (('electricity, low voltage, at grid/kWh',\n",
    "       'electricity, low voltage, at grid/kWh',\n",
    "       'GLO'),\n",
    "      {\"name\": \"market for electricity, low voltage\", \"reference product\": \"electricity, low voltage\", \"location\": \"CH\"}),\n",
    "     (('Steam, for chemical processes, at plant',\n",
    "       'steam, for chemical processes, at plant',\n",
    "       'GLO'),\n",
    "      {\"name\": \"market for heat, from steam, in chemical industry\", \"reference product\": \"heat, from steam, in chemical industry\", \"location\": \"RER\"}),\n",
    "     (('Sodium silicate, furnace process, pieces, at plant',\n",
    "       'sodium silicate, furnace process, pieces, at plant',\n",
    "       'GLO'),\n",
    "      {\"name\": \"market for sodium silicate, solid\", \"reference product\": \"sodium silicate, solid\", \"location\": \"RER\"}),\n",
    "     (('Sulphuric acid, liquid, at plant',\n",
    "       'sulphuric acid, liquid, at plant',\n",
    "       'GLO'),\n",
    "      {\"name\": \"market for sulfuric acid\", \"reference product\": \"sulfuric acid\", \"location\": \"RER\"}),\n",
    "     (('Monoethanolamine, at plant', 'monoethanolamine, at plant', 'GLO'), {\"name\": \"market for monoethanolamine\", \"reference product\": \"monoethanolamine\", \"location\": \"GLO\"}),\n",
    "     (('Hydrochloric acid, 30% in H2O, at plant',\n",
    "       'hydrochloric acid, 30% in H2O, at plant',\n",
    "       'GLO'),\n",
    "      {\"name\": \"market for hydrochloric acid, without water, in 30% solution state\", \"reference product\": \"hydrochloric acid, without water, in 30% solution state\", \"location\": \"RER\"}),\n",
    "     (('Ethanol, 99.7% in H2O, from biomass, at distillation',\n",
    "       'ethanol, 99.7% in H2O, from biomass, at distillation',\n",
    "       'GLO'),\n",
    "      {\"name\": \"market for ethanol, without water, in 99.7% solution state, from fermentation, vehicle grade\", \"reference product\": \"ethanol, without water, in 99.7% solution state, from fermentation, vehicle grade\", \"location\": \"CH\"}),\n",
    "     (('Diethyl ether, at plant', 'diethyl ether, at plant', 'GLO'), {\"name\": \"market for diethyl ether, without water, in 99.95% solution state\", \"reference product\": \"diethyl ether, without water, in 99.95% solution state\", \"location\": \"RER\"}),\n",
    "     (('transport, freight, rail/tkm', 'transport, freight, rail/tkm', 'GLO'), {\"name\": \"market for transport, freight train\", \"reference product\": \"transport, freight train\", \"location\": \"CH\"}),\n",
    "     (('transport, barge tanker/tkm', 'transport, barge tanker/tkm', 'GLO'), {\"name\": \"transport, freight, inland waterways, barge tanker\", \"reference product\": \"transport, freight, inland waterways, barge tanker\", \"location\": \"RER\"}),\n",
    "     (('heat, natural gas, at industrial furnace 1MW/MJ',\n",
    "       'heat, natural gas, at industrial furnace 1MW/MJ',\n",
    "       'GLO'),\n",
    "      {\"name\": \"heat production, natural gas, at industrial furnace >100kW\", \"reference product\": \"heat, district or industrial, natural gas\", \"location\": \"Europe without Switzerland\"}),\n",
    "     (('electricity, low voltage, production ENTSO, at grid/kWh',\n",
    "       'electricity, low voltage, production ENTSO, at grid/kWh',\n",
    "       'GLO'),\n",
    "      {\"name\": \"market group for electricity, low voltage\", \"reference product\": \"electricity, low voltage\", \"location\": \"ENTSO-E\"}),\n",
    "     (('Disposal, solvents mixture, 16.5% water, to hazardous waste incineration',\n",
    "       'disposal, solvents mixture, 16.5% water, to hazardous waste incineration',\n",
    "       'GLO'),\n",
    "      {\"name\": \"treatment of spent solvent mixture, hazardous waste incineration\", \"reference product\": \"spent solvent mixture\", \"location\": \"CH\"}),\n",
    "     (('disposal, anion exchange resin f. water, 50% water, to municipal incineration/kg',\n",
    "       'disposal, anion exchange resin f. water, 50% water, to municipal incineration/kg',\n",
    "       'GLO'),\n",
    "      {\"name\": \"treatment of spent anion exchange resin from potable water production, municipal incineration FAE\", \"reference product\": \"spent anion exchange resin from potable water production\", \"location\": \"CH\"}),\n",
    "        (('carbon dioxide compression, transport and storage',\n",
    "       'carbon dioxide compression, transport and storage',\n",
    "       'GLO'),\n",
    "      {\"location\": \"RER\"}),\n",
    "        (('Heat, at heat pump 30kW, allocation electricity',\n",
    "       'heat, at heat pump 30kW, allocation electricity',\n",
    "       'GLO'),\n",
    "      {\"name\": \"heat production, at heat pump 30kW, allocation exergy\", \"reference product\": \"heat, central or small-scale, other than natural gas\", \"location\": \"CH\"}),\n",
    "     (('Rock wool, at plant', 'rock wool, at plant', 'GLO'), {\"name\": \"stone wool production, packed\", \"reference product\": \"stone wool, packed\", \"location\": \"CH\"}),\n",
    "     (('Polyurethane, rigid foam, at plant',\n",
    "       'polyurethane, rigid foam, at plant',\n",
    "       'GLO'),\n",
    "      {\"name\": \"market for polyurethane, rigid foam\", \"reference product\": \"polyurethane, rigid foam\", \"location\": \"RER\"}),\n",
    "     (('aluminium, production mix, wrought alloy, at plant/kg',\n",
    "       'aluminium, production mix, wrought alloy, at plant/kg',\n",
    "       'GLO'),\n",
    "      {\"name\": \"market for aluminium, wrought alloy\", \"reference product\": \"aluminium, wrought alloy\", \"location\": \"GLO\"}),\n",
    "     (('Alkyd paint, white, 60% in H2O, at plant',\n",
    "       'alkyd paint, white, 60% in H2O, at plant',\n",
    "       'GLO'),\n",
    "      {\"name\": \"market for alkyd paint, white, without solvent, in 60% solution state\", \"reference product\": \"alkyd paint, white, without solvent, in 60% solution state\", \"location\": \"RER\"}),\n",
    "     (('Polystyrene foam slab, at plant',\n",
    "       'polystyrene foam slab, at plant',\n",
    "       'GLO'),\n",
    "      {\"name\": \"polystyrene foam slab production\", \"reference product\": \"polystyrene foam slab\", \"location\": \"RER\"}),\n",
    "     (('Disposal, building, reinforcement steel, to recycling',\n",
    "       'disposal, building, reinforcement steel, to recycling',\n",
    "       'GLO'),\n",
    "      {\"name\": \"treatment of waste reinforcement steel, recycling\", \"reference product\": \"waste reinforcement steel\", \"location\": \"CH\"}),\n",
    "     (('disposal, plastics, mixture, 15.3% water, to municipal incineration/kg',\n",
    "       'disposal, plastics, mixture, 15.3% water, to municipal incineration/kg',\n",
    "       'GLO'),\n",
    "      {\"name\": \"market for waste plastic, mixture\", \"reference product\": \"waste plastic, mixture\", \"location\": \"CH\"}),\n",
    "     (('Recycling aluminium', 'recycling aluminium', 'GLO'), {\"name\": \"treatment of waste aluminium, sanitary landfill\", \"reference product\": \"waste aluminium\", \"location\": \"CH\"}),\n",
    "     (('disposal, mineral wool, 0% water, to construction waste landfill/kg',\n",
    "       'disposal, mineral wool, 0% water, to construction waste landfill/kg',\n",
    "       'GLO'),\n",
    "      {\"name\": \"treatment of waste mineral wool, sorting plant\", \"reference product\": \"waste mineral wool\", \"location\": \"CH\"}),\n",
    "        (('Potassium hydroxide, at regional storage',\n",
    "       'potassium hydroxide, at regional storage',\n",
    "       'GLO'),\n",
    "      {\"name\": \"market for potassium hydroxide\", \"reference product\": \"potassium hydroxide\", \"location\": \"GLO\"}),\n",
    "     (('Limestone, milled, loose, at plant',\n",
    "       'limestone, milled, loose, at plant',\n",
    "       'GLO'),\n",
    "      {\"name\": \"market for limestone, crushed, washed\", \"reference product\": \"limestone, crushed, washed\", \"location\": \"CH\"}),\n",
    "     (('disposal, limestone residue, 5% water, to construction waste landfill/kg',\n",
    "       'disposal, limestone residue, 5% water, to construction waste landfill/kg',\n",
    "       'GLO'),\n",
    "      {\"name\": \"treatment of limestone residue, inert material landfill\", \"reference product\": \"limestone residue\", \"location\": \"CH\"}),\n",
    "     (('Glass fibre, at plant', 'glass fibre, at plant', 'GLO'), {\"name\": \"market for glass fibre\", \"reference product\": \"glass fibre\", \"location\": \"GLO\"}),\n",
    "     (('Polypropylene, granulate, at plant',\n",
    "       'polypropylene, granulate, at plant',\n",
    "       'GLO'),\n",
    "      {\"name\": \"polypropylene production, granulate\", \"reference product\": \"polypropylene, granulate\", \"location\": \"RER\"}),\n",
    "     (('Polyvinylchloride, bulk polymerised, at plant',\n",
    "       'polyvinylchloride, bulk polymerised, at plant',\n",
    "       'GLO'),\n",
    "      {\"name\": \"market for polyvinylchloride, suspension polymerised\", \"reference product\": \"polyvinylchloride, suspension polymerised\", \"location\": \"GLO\"}),\n",
    "     (('Sheet rolling, chromium steel', 'sheet rolling, chromium steel', 'GLO'),\n",
    "      {\"name\": \"market for sheet rolling, chromium steel\", \"reference product\": \"sheet rolling, chromium steel\", \"location\": \"GLO\"}),\n",
    "     (('Refractory, basic, packed, at plant',\n",
    "       'refractory, basic, packed, at plant',\n",
    "       'GLO'),\n",
    "      {\"name\": \"market for refractory, basic, packed\", \"reference product\": \"refractory, basic, packed\", \"location\": \"GLO\"}),\n",
    "     (('disposal, polyethylene, 0.4% water, to municipal incineration/kg',\n",
    "       'disposal, polyethylene, 0.4% water, to municipal incineration/kg',\n",
    "       'GLO'),\n",
    "      {\"name\": \"treatment of waste polyethylene, municipal incineration FAE\", \"reference product\": \"waste polyethylene\", \"location\": \"CH\"}),\n",
    "     (('disposal, polyurethane, 0.2% water, to municipal incineration/kg',\n",
    "       'disposal, polyurethane, 0.2% water, to municipal incineration/kg',\n",
    "       'GLO'),\n",
    "      {\"name\": \"treatment of waste polyurethane, municipal incineration FAE\", \"reference product\": \"waste polyurethane\", \"location\": \"CH\"}),\n",
    "     (('Disposal, building, brick, to final disposal',\n",
    "       'disposal, building, brick, to final disposal',\n",
    "       'GLO'),\n",
    "      {\"name\": \"market for waste brick\", \"reference product\": \"waste brick\", \"location\": \"CH\"})\n",
    "]"
   ]
  },
  {
   "cell_type": "code",
   "execution_count": 200,
   "id": "968cc782-16a8-4fbf-be6c-d94c4bbdbe95",
   "metadata": {},
   "outputs": [
    {
     "data": {
      "text/plain": [
       "[(('Potassium hydroxide, at regional storage',\n",
       "   'potassium hydroxide, at regional storage',\n",
       "   'GLO'),\n",
       "  {}),\n",
       " (('Limestone, milled, loose, at plant',\n",
       "   'limestone, milled, loose, at plant',\n",
       "   'GLO'),\n",
       "  {}),\n",
       " (('carbon dioxide compression, transport and storage',\n",
       "   'carbon dioxide compression, transport and storage',\n",
       "   'RER'),\n",
       "  {}),\n",
       " (('disposal, limestone residue, 5% water, to construction waste landfill/kg',\n",
       "   'disposal, limestone residue, 5% water, to construction waste landfill/kg',\n",
       "   'GLO'),\n",
       "  {}),\n",
       " (('Glass fibre, at plant', 'glass fibre, at plant', 'GLO'), {}),\n",
       " (('Polypropylene, granulate, at plant',\n",
       "   'polypropylene, granulate, at plant',\n",
       "   'GLO'),\n",
       "  {}),\n",
       " (('Polyvinylchloride, bulk polymerised, at plant',\n",
       "   'polyvinylchloride, bulk polymerised, at plant',\n",
       "   'GLO'),\n",
       "  {}),\n",
       " (('Sheet rolling, chromium steel', 'sheet rolling, chromium steel', 'GLO'),\n",
       "  {}),\n",
       " (('Refractory, basic, packed, at plant',\n",
       "   'refractory, basic, packed, at plant',\n",
       "   'GLO'),\n",
       "  {}),\n",
       " (('disposal, polyethylene, 0.4% water, to municipal incineration/kg',\n",
       "   'disposal, polyethylene, 0.4% water, to municipal incineration/kg',\n",
       "   'GLO'),\n",
       "  {}),\n",
       " (('disposal, polyurethane, 0.2% water, to municipal incineration/kg',\n",
       "   'disposal, polyurethane, 0.2% water, to municipal incineration/kg',\n",
       "   'GLO'),\n",
       "  {}),\n",
       " (('Disposal, building, brick, to final disposal',\n",
       "   'disposal, building, brick, to final disposal',\n",
       "   'GLO'),\n",
       "  {})]"
      ]
     },
     "execution_count": 200,
     "metadata": {},
     "output_type": "execute_result"
    }
   ],
   "source": [
    "# this is to build a migration file\n",
    "migration = {\n",
    "    \"fields\": [\"name\", \"reference product\", \"location\", ],\n",
    "}\n",
    "\n",
    "migration[\"data\"] = [\n",
    "    (\n",
    "        (u[\"name\"], u[\"reference product\"], u[\"location\"], ),\n",
    "        {}\n",
    "    )\n",
    "    for u in c.i.unlinked\n",
    "    if u[\"type\"] == \"technosphere\"\n",
    "]\n",
    "migration[\"data\"]"
   ]
  },
  {
   "cell_type": "code",
   "execution_count": 13,
   "id": "57120040-9588-4a8c-8325-293b80a5b31a",
   "metadata": {},
   "outputs": [],
   "source": [
    "bw2io.Migration(name=\"H2_biomass\").write(data=migration, description=\"BAFU CDR\")"
   ]
  },
  {
   "cell_type": "code",
   "execution_count": 14,
   "id": "1fb96f28-8645-4182-bd51-5de515c4e007",
   "metadata": {},
   "outputs": [],
   "source": [
    "c.i.data = bw2io.strategies.migrate_exchanges(\n",
    "    db=c.i.data,\n",
    "    migration=\"H2_biomass\"\n",
    ")"
   ]
  },
  {
   "cell_type": "code",
   "execution_count": 15,
   "id": "dfed3bff-c885-48ad-b686-5558ed42dc4a",
   "metadata": {},
   "outputs": [
    {
     "name": "stdout",
     "output_type": "stream",
     "text": [
      "Applying strategy: link_iterable_by_fields\n",
      "Applying strategy: link_iterable_by_fields\n",
      "Applying strategy: link_iterable_by_fields\n"
     ]
    }
   ],
   "source": [
    "c.i.match_database(fields=[\"name\", \"reference product\", \"location\"])\n",
    "c.i.match_database(\"ecoinvent-3.10.1-cutoff\", fields=[\"name\", \"reference product\", \"location\"])\n",
    "c.i.match_database(\"biosphere3\", fields=[\"name\", \"categories\"])"
   ]
  },
  {
   "cell_type": "code",
   "execution_count": 16,
   "id": "136da6e1-abcb-4a32-86d8-31bddd256bab",
   "metadata": {},
   "outputs": [
    {
     "name": "stdout",
     "output_type": "stream",
     "text": [
      "4 datasets\n",
      "73 exchanges\n",
      "0 unlinked exchanges\n",
      "  \n"
     ]
    },
    {
     "data": {
      "text/plain": [
       "(4, 73, 0)"
      ]
     },
     "execution_count": 16,
     "metadata": {},
     "output_type": "execute_result"
    }
   ],
   "source": [
    "c.i.statistics()"
   ]
  },
  {
   "cell_type": "code",
   "execution_count": 10,
   "id": "2a3e8c24-9679-4092-aabc-a08314221ff3",
   "metadata": {},
   "outputs": [
    {
     "name": "stdout",
     "output_type": "stream",
     "text": [
      "carbon dioxide compression, transport and storage RER\n"
     ]
    }
   ],
   "source": [
    "for u in c.i.unlinked:\n",
    "    print(u[\"name\"], u[\"location\"])"
   ]
  },
  {
   "cell_type": "code",
   "execution_count": 117,
   "id": "1a553cc0-ee66-4677-be78-27aa667b9e22",
   "metadata": {},
   "outputs": [
    {
     "name": "stdout",
     "output_type": "stream",
     "text": [
      "carbon dioxide, captured and stored from municipal solid waste incineration plant carbon dioxide, captured and stored from municipal solid waste incineration plant CH\n",
      "carbon dioxide, captured and stored from municipal solid waste incineration plant, with heat recovery carbon dioxide, captured and stored from municipal solid waste incineration plant, with heat recovery CH\n",
      "amine-based silica production, for adsorbent-based direct air capture system amine-based silica production, for adsorbent-based direct air capture system GLO\n"
     ]
    }
   ],
   "source": [
    "for ds in c.i.data:\n",
    "    print(ds[\"name\"], ds[\"reference product\"], ds[\"location\"])"
   ]
  },
  {
   "cell_type": "code",
   "execution_count": null,
   "id": "4e1444e8-9d48-4b5d-a0a2-2fa5551b09eb",
   "metadata": {},
   "outputs": [],
   "source": []
  }
 ],
 "metadata": {
  "kernelspec": {
   "display_name": "Python 3 (ipykernel)",
   "language": "python",
   "name": "python3"
  },
  "language_info": {
   "codemirror_mode": {
    "name": "ipython",
    "version": 3
   },
   "file_extension": ".py",
   "mimetype": "text/x-python",
   "name": "python",
   "nbconvert_exporter": "python",
   "pygments_lexer": "ipython3",
   "version": "3.11.10"
  }
 },
 "nbformat": 4,
 "nbformat_minor": 5
}
